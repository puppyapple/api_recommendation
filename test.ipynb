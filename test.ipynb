{
 "cells": [
  {
   "cell_type": "code",
   "execution_count": 64,
   "metadata": {},
   "outputs": [],
   "source": [
    "# -*- coding: utf-8 -*-\n",
    "import Code.recommendation\n",
    "import pandas as pd\n",
    "import pickle\n",
    "import json\n",
    "from itertools import product\n",
    "from imp import reload\n",
    "from py2neo import Graph\n",
    "# reload(Code.recommendation)"
   ]
  },
  {
   "cell_type": "code",
   "execution_count": 65,
   "metadata": {},
   "outputs": [
    {
     "data": {
      "text/plain": [
       "<module 'Code.recommendation' from '/home/zijun.wu/api_recommendation/Code/recommendation.py'>"
      ]
     },
     "execution_count": 65,
     "metadata": {},
     "output_type": "execute_result"
    }
   ],
   "source": [
    "reload(Code.recommendation)"
   ]
  },
  {
   "cell_type": "code",
   "execution_count": null,
   "metadata": {},
   "outputs": [],
   "source": []
  },
  {
   "cell_type": "code",
   "execution_count": 4,
   "metadata": {},
   "outputs": [],
   "source": [
    "innotree_graph = Graph(\n",
    "    \"http://172.29.29.29:7474\",\n",
    "    username=\"neo4j\",\n",
    "    password=\"innotree\"\n",
    ")"
   ]
  },
  {
   "cell_type": "code",
   "execution_count": null,
   "metadata": {},
   "outputs": [],
   "source": []
  },
  {
   "cell_type": "code",
   "execution_count": 2,
   "metadata": {},
   "outputs": [],
   "source": [
    "Code.pipline.comp_infos, Code.pipline.ctag_ctag, Code.pipline.ctag_nctag, Code.pipline.nctag_nctag, Code.pipline.ctag_position, Code.pipline.comp_id_name_dict = comp_infos, ctag_ctag, ctag_nctag, nctag_nctag, ctag_position, comp_id_name_dict = Code.pipline.data_loader()"
   ]
  },
  {
   "cell_type": "code",
   "execution_count": 7,
   "metadata": {},
   "outputs": [],
   "source": [
    "Code.pipline.comp_infos, Code.pipline.ctag_ctag, Code.pipline.ctag_nctag, Code.pipline.nctag_nctag, Code.pipline.ctag_position, Code.pipline.comp_id_name_dict = comp_infos, ctag_ctag, ctag_nctag, nctag_nctag, ctag_position, comp_id_name_dict "
   ]
  },
  {
   "cell_type": "code",
   "execution_count": 6,
   "metadata": {},
   "outputs": [],
   "source": [
    "comp_id_name_dict_reverse = dict(zip(comp_id_name_dict.values(), comp_id_name_dict.keys()))"
   ]
  },
  {
   "cell_type": "code",
   "execution_count": 7,
   "metadata": {},
   "outputs": [],
   "source": [
    "has_invest = samples[samples.最近融资时间 != 0].sample(10)\n",
    "no_invest = samples[samples.最近融资时间 == 0].sample(10)"
   ]
  },
  {
   "cell_type": "code",
   "execution_count": 4,
   "metadata": {},
   "outputs": [],
   "source": [
    "has_invest = [\"深圳市移联网络科技有限公司\", \"康泽药业股份有限公司\", \"深圳市泛谷药业股份有限公司\", \n",
    "              \"广东瑞兴医药股份有限公司\", \"深圳市微购科技有限公司\", \"快尚时装（广州）有限公司\", \n",
    "              \"广州食得鲜网络科技有限公司\", \"百草堂医药股份有限公司\", \"广州启生信息技术有限公司\", \n",
    "              \"深圳市百分之百数码科技有限公司\"]\n",
    "no_invest = [\"深圳市金檀科技有限公司\", \"广州诚泽信息科技有限公司\", \"深圳市世纪润和珠宝有限公司\", \n",
    "             \"深圳市佰供信息技术有限公司\", \"中山市放心大药房有限公司\", \"佛山市居道家具有限公司\", \n",
    "             \"中山市辰星医药有限公司\", \"广州美妆广告有限公司\", \"东莞市万顺建材有限公司\", \n",
    "             \"佛山市盈博悦贸易有限公司\"]"
   ]
  },
  {
   "cell_type": "code",
   "execution_count": 17,
   "metadata": {},
   "outputs": [],
   "source": [
    "def get_competitors(comp_name):\n",
    "    print(\"开始计算 %s\" % comp_name)\n",
    "    result = Code.pipline.sample_test(comp_name, innotree_graph, weights=(0.5, 0.4, 0.1), tag_link_filters=(0.0, 0.3, 0.3), each_num=(20, 20))\n",
    "    result[\"comp_name\"] = result.comp_id.apply(lambda x: comp_id_name_dict.get(x))\n",
    "    result.to_excel(\"../Data/Output/recommendation/无融资/\" + \"无融资_\" + comp_name + \".xlsx\")\n",
    "    print (\"%s 计算完成\" % comp_name)\n",
    "    return 0"
   ]
  },
  {
   "cell_type": "code",
   "execution_count": 16,
   "metadata": {},
   "outputs": [
    {
     "name": "stdout",
     "output_type": "stream",
     "text": [
      "开始计算 深圳市移联网络科技有限公司\n",
      "深圳市移联网络科技有限公司 计算完成\n",
      "开始计算 康泽药业股份有限公司\n",
      "康泽药业股份有限公司 计算完成\n",
      "开始计算 深圳市泛谷药业股份有限公司\n",
      "深圳市泛谷药业股份有限公司 计算完成\n",
      "开始计算 广东瑞兴医药股份有限公司\n",
      "广东瑞兴医药股份有限公司 计算完成\n",
      "开始计算 深圳市微购科技有限公司\n",
      "深圳市微购科技有限公司 计算完成\n",
      "开始计算 快尚时装（广州）有限公司\n",
      "快尚时装（广州）有限公司 计算完成\n",
      "开始计算 广州食得鲜网络科技有限公司\n",
      "广州食得鲜网络科技有限公司 计算完成\n",
      "开始计算 百草堂医药股份有限公司\n",
      "百草堂医药股份有限公司 计算完成\n",
      "开始计算 广州启生信息技术有限公司\n",
      "广州启生信息技术有限公司 计算完成\n",
      "开始计算 深圳市百分之百数码科技有限公司\n",
      "深圳市百分之百数码科技有限公司 计算完成\n"
     ]
    }
   ],
   "source": [
    "for comp in has_invest:\n",
    "    get_competitors(comp)"
   ]
  },
  {
   "cell_type": "code",
   "execution_count": 18,
   "metadata": {},
   "outputs": [
    {
     "name": "stdout",
     "output_type": "stream",
     "text": [
      "开始计算 深圳市金檀科技有限公司\n",
      "深圳市金檀科技有限公司 计算完成\n",
      "开始计算 广州诚泽信息科技有限公司\n",
      "广州诚泽信息科技有限公司 计算完成\n",
      "开始计算 深圳市世纪润和珠宝有限公司\n",
      "深圳市世纪润和珠宝有限公司 计算完成\n",
      "开始计算 深圳市佰供信息技术有限公司\n",
      "深圳市佰供信息技术有限公司 计算完成\n",
      "开始计算 中山市放心大药房有限公司\n",
      "中山市放心大药房有限公司 计算完成\n",
      "开始计算 佛山市居道家具有限公司\n",
      "佛山市居道家具有限公司 计算完成\n",
      "开始计算 中山市辰星医药有限公司\n",
      "中山市辰星医药有限公司 计算完成\n",
      "开始计算 广州美妆广告有限公司\n",
      "广州美妆广告有限公司 计算完成\n",
      "开始计算 东莞市万顺建材有限公司\n",
      "东莞市万顺建材有限公司 计算完成\n",
      "开始计算 佛山市盈博悦贸易有限公司\n",
      "佛山市盈博悦贸易有限公司 计算完成\n"
     ]
    }
   ],
   "source": [
    "for comp in no_invest:\n",
    "    get_competitors(comp)"
   ]
  },
  {
   "cell_type": "code",
   "execution_count": 12,
   "metadata": {},
   "outputs": [
    {
     "data": {
      "text/plain": [
       "True"
      ]
     },
     "execution_count": 12,
     "metadata": {},
     "output_type": "execute_result"
    }
   ],
   "source": [
    "comp_id_name_dict_reverse.get('深圳市移联网络科技有限公司 ')"
   ]
  },
  {
   "cell_type": "code",
   "execution_count": 11,
   "metadata": {},
   "outputs": [
    {
     "name": "stdout",
     "output_type": "stream",
     "text": [
      "CPU times: user 1min 4s, sys: 3.61 s, total: 1min 7s\n",
      "Wall time: 1min 17s\n"
     ]
    }
   ],
   "source": [
    "%%time\n",
    "a = Code.recommendation.multi_process_rank('深圳市移联网络科技有限公司', weights=(0.5, 0.4, 0.10), tag_link_filters=(0.0, 0.3, 0.3), response_num=None)\n",
    "a"
   ]
  },
  {
   "cell_type": "code",
   "execution_count": 12,
   "metadata": {},
   "outputs": [
    {
     "data": {
      "text/html": [
       "<div>\n",
       "<style scoped>\n",
       "    .dataframe tbody tr th:only-of-type {\n",
       "        vertical-align: middle;\n",
       "    }\n",
       "\n",
       "    .dataframe tbody tr th {\n",
       "        vertical-align: top;\n",
       "    }\n",
       "\n",
       "    .dataframe thead th {\n",
       "        text-align: right;\n",
       "    }\n",
       "</style>\n",
       "<table border=\"1\" class=\"dataframe\">\n",
       "  <thead>\n",
       "    <tr style=\"text-align: right;\">\n",
       "      <th></th>\n",
       "      <th>comp_id</th>\n",
       "      <th>comp_name</th>\n",
       "      <th>sim_value</th>\n",
       "      <th>is_same_tree</th>\n",
       "      <th>is_same_link</th>\n",
       "      <th>has_stock_relation</th>\n",
       "      <th>has_branch_relation</th>\n",
       "    </tr>\n",
       "  </thead>\n",
       "  <tbody>\n",
       "    <tr>\n",
       "      <th>1818824</th>\n",
       "      <td>8978321727851594656</td>\n",
       "      <td>安徽秒秒科技有限责任公司</td>\n",
       "      <td>18.471876</td>\n",
       "      <td>False</td>\n",
       "      <td>False</td>\n",
       "      <td>False</td>\n",
       "      <td>False</td>\n",
       "    </tr>\n",
       "    <tr>\n",
       "      <th>1193739</th>\n",
       "      <td>3619265531610033094</td>\n",
       "      <td>广州掌源信息科技有限公司</td>\n",
       "      <td>14.257845</td>\n",
       "      <td>False</td>\n",
       "      <td>False</td>\n",
       "      <td>False</td>\n",
       "      <td>False</td>\n",
       "    </tr>\n",
       "    <tr>\n",
       "      <th>1494641</th>\n",
       "      <td>6200742931612868535</td>\n",
       "      <td>北京箭扣科技有限公司</td>\n",
       "      <td>13.569059</td>\n",
       "      <td>False</td>\n",
       "      <td>False</td>\n",
       "      <td>False</td>\n",
       "      <td>False</td>\n",
       "    </tr>\n",
       "    <tr>\n",
       "      <th>1391289</th>\n",
       "      <td>5322988688736630680</td>\n",
       "      <td>福州新泰仑软件有限公司</td>\n",
       "      <td>13.395096</td>\n",
       "      <td>False</td>\n",
       "      <td>False</td>\n",
       "      <td>False</td>\n",
       "      <td>False</td>\n",
       "    </tr>\n",
       "  </tbody>\n",
       "</table>\n",
       "</div>"
      ],
      "text/plain": [
       "                     comp_id     comp_name  sim_value  is_same_tree  \\\n",
       "1818824  8978321727851594656  安徽秒秒科技有限责任公司  18.471876         False   \n",
       "1193739  3619265531610033094  广州掌源信息科技有限公司  14.257845         False   \n",
       "1494641  6200742931612868535    北京箭扣科技有限公司  13.569059         False   \n",
       "1391289  5322988688736630680   福州新泰仑软件有限公司  13.395096         False   \n",
       "\n",
       "         is_same_link  has_stock_relation  has_branch_relation  \n",
       "1818824         False               False                False  \n",
       "1193739         False               False                False  \n",
       "1494641         False               False                False  \n",
       "1391289         False               False                False  "
      ]
     },
     "execution_count": 12,
     "metadata": {},
     "output_type": "execute_result"
    }
   ],
   "source": [
    "a.head(4)"
   ]
  },
  {
   "cell_type": "code",
   "execution_count": 6,
   "metadata": {},
   "outputs": [],
   "source": [
    "a.to_excel(\"../Data/new_test_1.xlsx\")"
   ]
  },
  {
   "cell_type": "code",
   "execution_count": 25,
   "metadata": {},
   "outputs": [],
   "source": [
    "tag_code_dict = pickle.load(open(\"../Data/Output/recommendation/tag_dict.pkl\", \"rb\"))"
   ]
  },
  {
   "cell_type": "code",
   "execution_count": 26,
   "metadata": {},
   "outputs": [],
   "source": [
    "tag_code_dict_reverse = dict(zip(tag_code_dict.values(), tag_code_dict.keys()))"
   ]
  },
  {
   "cell_type": "code",
   "execution_count": 48,
   "metadata": {},
   "outputs": [
    {
     "data": {
      "text/plain": [
       "('9e32e2901adb5483bbaa281873611c1a', None)"
      ]
     },
     "execution_count": 48,
     "metadata": {},
     "output_type": "execute_result"
    }
   ],
   "source": [
    "tag_code_dict.get(\"医疗健康\"), tag_code_dict.get(\"\")"
   ]
  },
  {
   "cell_type": "code",
   "execution_count": 3,
   "metadata": {},
   "outputs": [],
   "source": [
    "ctag_ctag = pickle.load(open(\"../Data/Output/recommendation/ctag_ctag.pkl\", \"rb\"))"
   ]
  },
  {
   "cell_type": "code",
   "execution_count": 6,
   "metadata": {},
   "outputs": [
    {
     "data": {
      "text/plain": [
       "1.0"
      ]
     },
     "execution_count": 6,
     "metadata": {},
     "output_type": "execute_result"
    }
   ],
   "source": [
    "ctag_ctag.get(\"64b17f2299f65a7db1fe5e8209cc999e-64b17f2299f65a7db1fe5e8209cc999e\")"
   ]
  },
  {
   "cell_type": "code",
   "execution_count": 35,
   "metadata": {},
   "outputs": [
    {
     "data": {
      "text/plain": [
       "'医药研发'"
      ]
     },
     "execution_count": 35,
     "metadata": {},
     "output_type": "execute_result"
    }
   ],
   "source": [
    "tag_code_dict_reverse.get(\"64b17f2299f65a7db1fe5e8209cc999e\")"
   ]
  },
  {
   "cell_type": "code",
   "execution_count": 38,
   "metadata": {},
   "outputs": [
    {
     "data": {
      "text/plain": [
       "'医药零售连锁'"
      ]
     },
     "execution_count": 38,
     "metadata": {},
     "output_type": "execute_result"
    }
   ],
   "source": [
    "tag_code_dict_reverse.get('52c7fc5c43a25b79a7757538f53d9895')"
   ]
  },
  {
   "cell_type": "code",
   "execution_count": 39,
   "metadata": {},
   "outputs": [
    {
     "data": {
      "text/plain": [
       "'医药产品消费'"
      ]
     },
     "execution_count": 39,
     "metadata": {},
     "output_type": "execute_result"
    }
   ],
   "source": [
    "tag_code_dict_reverse.get('6a4d20a3a88c58f7812a647ac506abb5')"
   ]
  },
  {
   "cell_type": "code",
   "execution_count": 10,
   "metadata": {},
   "outputs": [
    {
     "ename": "NameError",
     "evalue": "name 'tag_code_dict' is not defined",
     "output_type": "error",
     "traceback": [
      "\u001b[0;31m---------------------------------------------------------------------------\u001b[0m",
      "\u001b[0;31mNameError\u001b[0m                                 Traceback (most recent call last)",
      "\u001b[0;32m<ipython-input-10-c6acef5cf428>\u001b[0m in \u001b[0;36m<module>\u001b[0;34m()\u001b[0m\n\u001b[0;32m----> 1\u001b[0;31m \u001b[0mtag_code_dict\u001b[0m\u001b[0;34m.\u001b[0m\u001b[0mget\u001b[0m\u001b[0;34m(\u001b[0m\u001b[0;34m\"\"\u001b[0m\u001b[0;34m)\u001b[0m \u001b[0;34m==\u001b[0m \u001b[0;32mNone\u001b[0m\u001b[0;34m\u001b[0m\u001b[0m\n\u001b[0m",
      "\u001b[0;31mNameError\u001b[0m: name 'tag_code_dict' is not defined"
     ]
    }
   ],
   "source": [
    "tag_code_dict.get(\"\") == None"
   ]
  },
  {
   "cell_type": "code",
   "execution_count": 28,
   "metadata": {},
   "outputs": [],
   "source": [
    "ctag_position = pickle.load(open(\"../Data/Output/recommendation/ctag_position.pkl\", \"rb\"))"
   ]
  },
  {
   "cell_type": "code",
   "execution_count": 14,
   "metadata": {},
   "outputs": [
    {
     "data": {
      "text/plain": [
       "0"
      ]
     },
     "execution_count": 14,
     "metadata": {},
     "output_type": "execute_result"
    }
   ],
   "source": [
    "ctag_position.get(\"52c7fc5c43a25b79a7757538f53d9895-52c7fc5c43a25b79a7757538f53d9895\")"
   ]
  },
  {
   "cell_type": "code",
   "execution_count": null,
   "metadata": {},
   "outputs": [],
   "source": [
    "ctag_ctag"
   ]
  },
  {
   "cell_type": "code",
   "execution_count": 23,
   "metadata": {},
   "outputs": [],
   "source": [
    "ctag_nctag = pickle.load(open(\"../Data/Output/recommendation/ctag_nctag.pkl\", \"rb\"))"
   ]
  },
  {
   "cell_type": "code",
   "execution_count": null,
   "metadata": {},
   "outputs": [],
   "source": [
    "ctag_nctag"
   ]
  },
  {
   "cell_type": "code",
   "execution_count": 25,
   "metadata": {},
   "outputs": [],
   "source": [
    "target_comp_info = list(comp_infos[comp_infos.comp_id == '14942351996598991499'].comp_property_dict)[0]"
   ]
  },
  {
   "cell_type": "code",
   "execution_count": 26,
   "metadata": {},
   "outputs": [
    {
     "data": {
      "text/plain": [
       "{'bottom_ctag': {'fe97b8babf46531c8fbdb4ba2a391c8c'},\n",
       " 'ctags': {'9e32e2901adb5483bbaa281873611c1a',\n",
       "  'd8da89cae307574ba676edc1742209df',\n",
       "  'fe97b8babf46531c8fbdb4ba2a391c8c'},\n",
       " 'nctags': {'152138238fdb548a89e97f4d6dfb64c5',\n",
       "  '1ef474b0804954cc84dc6013ad6e9562',\n",
       "  '2a11d1933e76570797f78eba069c0982',\n",
       "  '6fef971b58bd5f169a1fb4cfa7eb267f',\n",
       "  '825aa1bdfe6f561db602675eaf593e66',\n",
       "  '94e6ba1c5c5b56eebf2573dd8fb391c3',\n",
       "  'd48169ea3d6b503c8bf445b2b1f371c3',\n",
       "  'e86cd029d450528ea50b8a4bd7a9815e'},\n",
       " 'top_ctag': {'9e32e2901adb5483bbaa281873611c1a'}}"
      ]
     },
     "execution_count": 26,
     "metadata": {},
     "output_type": "execute_result"
    }
   ],
   "source": [
    "target_comp_info"
   ]
  },
  {
   "cell_type": "code",
   "execution_count": 32,
   "metadata": {},
   "outputs": [
    {
     "data": {
      "text/plain": [
       "0.4441869734895654"
      ]
     },
     "execution_count": 32,
     "metadata": {},
     "output_type": "execute_result"
    }
   ],
   "source": [
    "ctag_nctag.get('0015fdb6f2db5c68a67a85b677e36bd8-10c2539930085213be80fa753140b41e')"
   ]
  },
  {
   "cell_type": "code",
   "execution_count": 33,
   "metadata": {},
   "outputs": [],
   "source": [
    "ctag_nctag.get('10c2539930085213be80fa753140b41e-0015fdb6f2db5c68a67a85b677e36bd8')"
   ]
  },
  {
   "cell_type": "code",
   "execution_count": 37,
   "metadata": {},
   "outputs": [
    {
     "data": {
      "text/plain": [
       "[('a', 'x'), ('a', 'y'), ('b', 'x'), ('b', 'y'), ('c', 'x'), ('c', 'y')]"
      ]
     },
     "execution_count": 37,
     "metadata": {},
     "output_type": "execute_result"
    }
   ],
   "source": [
    "list(product(['a', 'b', 'c'], ['x', 'y']))"
   ]
  },
  {
   "cell_type": "code",
   "execution_count": 14,
   "metadata": {},
   "outputs": [
    {
     "data": {
      "text/plain": [
       "'[{\"comp_id\":\"8978321727851594656\",\"comp_name\":\"\\\\u5b89\\\\u5fbd\\\\u79d2\\\\u79d2\\\\u79d1\\\\u6280\\\\u6709\\\\u9650\\\\u8d23\\\\u4efb\\\\u516c\\\\u53f8\",\"sim_value\":18.4718764814,\"is_same_tree\":false,\"is_same_link\":false,\"has_stock_relation\":false,\"has_branch_relation\":false},{\"comp_id\":\"3619265531610033094\",\"comp_name\":\"\\\\u5e7f\\\\u5dde\\\\u638c\\\\u6e90\\\\u4fe1\\\\u606f\\\\u79d1\\\\u6280\\\\u6709\\\\u9650\\\\u516c\\\\u53f8\",\"sim_value\":14.2578454886,\"is_same_tree\":false,\"is_same_link\":false,\"has_stock_relation\":false,\"has_branch_relation\":false},{\"comp_id\":\"6200742931612868535\",\"comp_name\":\"\\\\u5317\\\\u4eac\\\\u7bad\\\\u6263\\\\u79d1\\\\u6280\\\\u6709\\\\u9650\\\\u516c\\\\u53f8\",\"sim_value\":13.5690590797,\"is_same_tree\":false,\"is_same_link\":false,\"has_stock_relation\":false,\"has_branch_relation\":false},{\"comp_id\":\"5322988688736630680\",\"comp_name\":\"\\\\u798f\\\\u5dde\\\\u65b0\\\\u6cf0\\\\u4ed1\\\\u8f6f\\\\u4ef6\\\\u6709\\\\u9650\\\\u516c\\\\u53f8\",\"sim_value\":13.3950960972,\"is_same_tree\":false,\"is_same_link\":false,\"has_stock_relation\":false,\"has_branch_relation\":false},{\"comp_id\":\"8059662624816772458\",\"comp_name\":\"\\\\u6df1\\\\u5733\\\\u5e02\\\\u5fae\\\\u7ad9\\\\u79d1\\\\u6280\\\\u6709\\\\u9650\\\\u516c\\\\u53f8\",\"sim_value\":13.1317848306,\"is_same_tree\":false,\"is_same_link\":false,\"has_stock_relation\":false,\"has_branch_relation\":false}]'"
      ]
     },
     "execution_count": 14,
     "metadata": {},
     "output_type": "execute_result"
    }
   ],
   "source": [
    "a.head(5).to_json(orient=\"records\")"
   ]
  },
  {
   "cell_type": "code",
   "execution_count": 34,
   "metadata": {},
   "outputs": [
    {
     "ename": "NameError",
     "evalue": "name 'a' is not defined",
     "output_type": "error",
     "traceback": [
      "\u001b[0;31m---------------------------------------------------------------------------\u001b[0m",
      "\u001b[0;31mNameError\u001b[0m                                 Traceback (most recent call last)",
      "\u001b[0;32m<ipython-input-34-efe82cac6890>\u001b[0m in \u001b[0;36m<module>\u001b[0;34m()\u001b[0m\n\u001b[0;32m----> 1\u001b[0;31m \u001b[0ma\u001b[0m\u001b[0;34m.\u001b[0m\u001b[0mhead\u001b[0m\u001b[0;34m(\u001b[0m\u001b[0;36m5\u001b[0m\u001b[0;34m)\u001b[0m\u001b[0;34m.\u001b[0m\u001b[0mto_dict\u001b[0m\u001b[0;34m(\u001b[0m\u001b[0morient\u001b[0m\u001b[0;34m=\u001b[0m\u001b[0;34m\"row\"\u001b[0m\u001b[0;34m)\u001b[0m\u001b[0;34m\u001b[0m\u001b[0m\n\u001b[0m",
      "\u001b[0;31mNameError\u001b[0m: name 'a' is not defined"
     ]
    }
   ],
   "source": [
    "a.head(5).to_dict(orient=\"row\")"
   ]
  },
  {
   "cell_type": "code",
   "execution_count": 1,
   "metadata": {},
   "outputs": [],
   "source": [
    "import flask\n",
    "from Code.recommendation import multi_process_rank\n",
    "server = flask.Flask(__name__)"
   ]
  },
  {
   "cell_type": "code",
   "execution_count": 1,
   "metadata": {},
   "outputs": [],
   "source": [
    "from flask import request"
   ]
  },
  {
   "cell_type": "code",
   "execution_count": 2,
   "metadata": {},
   "outputs": [
    {
     "ename": "NameError",
     "evalue": "name 'Code' is not defined",
     "output_type": "error",
     "traceback": [
      "\u001b[0;31m---------------------------------------------------------------------------\u001b[0m",
      "\u001b[0;31mNameError\u001b[0m                                 Traceback (most recent call last)",
      "\u001b[0;32m<timed eval>\u001b[0m in \u001b[0;36m<module>\u001b[0;34m()\u001b[0m\n",
      "\u001b[0;31mNameError\u001b[0m: name 'Code' is not defined"
     ]
    }
   ],
   "source": [
    "%time Code.recommendation.multi_process_rank(comp_name=\"安徽秒秒科技有限责任公司\", response_num=10).to_dict(orient=\"row\")"
   ]
  },
  {
   "cell_type": "code",
   "execution_count": 23,
   "metadata": {},
   "outputs": [],
   "source": [
    "@server.route(\"/recommentdation\", methods=[\"post\"])\n",
    "def rec():\n",
    "    comp_name = request.json.get(\"comp_name\")\n",
    "    response_num = request.json.get(\"response_num\")\n",
    "    data = []\n",
    "    code = -1\n",
    "    try:\n",
    "        data = Code.recommendation.multi_process_rank(comp_name=comp_name, response_num=response_num).to_dict(orient=\"row\")\n",
    "    except:\n",
    "        print(\"请求失败！\")\n",
    "    else:\n",
    "        code = 200\n",
    "    finally:\n",
    "        result_json = json.dumps({\"code\": code, \"data\": data})\n",
    "        return result_json"
   ]
  },
  {
   "cell_type": "code",
   "execution_count": null,
   "metadata": {},
   "outputs": [],
   "source": []
  },
  {
   "cell_type": "code",
   "execution_count": 3,
   "metadata": {},
   "outputs": [],
   "source": [
    "import requests\n",
    "import json\n",
    "import pandas as pd\n",
    "import pickle"
   ]
  },
  {
   "cell_type": "code",
   "execution_count": 43,
   "metadata": {},
   "outputs": [],
   "source": [
    "comp_name = \"北京诚益通控制工程科技股份有限公司\"\n",
    "comp_info = \"\""
   ]
  },
  {
   "cell_type": "code",
   "execution_count": 44,
   "metadata": {},
   "outputs": [
    {
     "name": "stdout",
     "output_type": "stream",
     "text": [
      "CPU times: user 8.01 ms, sys: 248 µs, total: 8.26 ms\n",
      "Wall time: 1min 31s\n"
     ]
    }
   ],
   "source": [
    "%time r = requests.post(\"http://172.29.237.212:8999/recommendation\", data={\"comp_name\": comp_name, \"comp_info\": comp_info, \"response_num\": 20})"
   ]
  },
  {
   "cell_type": "code",
   "execution_count": 13,
   "metadata": {},
   "outputs": [],
   "source": [
    "pd.DataFrame(r.json().get(\"data\")).to_excel(\"%s.xlsx\" % comp_name)"
   ]
  },
  {
   "cell_type": "code",
   "execution_count": 45,
   "metadata": {},
   "outputs": [
    {
     "data": {
      "text/html": [
       "<div>\n",
       "<style scoped>\n",
       "    .dataframe tbody tr th:only-of-type {\n",
       "        vertical-align: middle;\n",
       "    }\n",
       "\n",
       "    .dataframe tbody tr th {\n",
       "        vertical-align: top;\n",
       "    }\n",
       "\n",
       "    .dataframe thead th {\n",
       "        text-align: right;\n",
       "    }\n",
       "</style>\n",
       "<table border=\"1\" class=\"dataframe\">\n",
       "  <thead>\n",
       "    <tr style=\"text-align: right;\">\n",
       "      <th></th>\n",
       "      <th>comp_id</th>\n",
       "      <th>comp_name</th>\n",
       "      <th>has_branch_relation</th>\n",
       "      <th>has_stock_relation</th>\n",
       "      <th>is_same_link</th>\n",
       "      <th>is_same_tree</th>\n",
       "      <th>sim_value</th>\n",
       "    </tr>\n",
       "  </thead>\n",
       "  <tbody>\n",
       "    <tr>\n",
       "      <th>0</th>\n",
       "      <td>10024242744073432393</td>\n",
       "      <td>博奥赛斯（天津）生物科技有限公司</td>\n",
       "      <td>False</td>\n",
       "      <td>False</td>\n",
       "      <td>True</td>\n",
       "      <td>True</td>\n",
       "      <td>85.458986</td>\n",
       "    </tr>\n",
       "    <tr>\n",
       "      <th>1</th>\n",
       "      <td>3935273098716328559</td>\n",
       "      <td>武汉友芝友医疗科技股份有限公司</td>\n",
       "      <td>False</td>\n",
       "      <td>False</td>\n",
       "      <td>True</td>\n",
       "      <td>True</td>\n",
       "      <td>81.816233</td>\n",
       "    </tr>\n",
       "    <tr>\n",
       "      <th>2</th>\n",
       "      <td>2106199815052274</td>\n",
       "      <td>上海裕隆生物科技有限公司</td>\n",
       "      <td>False</td>\n",
       "      <td>False</td>\n",
       "      <td>True</td>\n",
       "      <td>True</td>\n",
       "      <td>81.132960</td>\n",
       "    </tr>\n",
       "    <tr>\n",
       "      <th>3</th>\n",
       "      <td>4480994565427179187</td>\n",
       "      <td>北京嘉宝仁和医疗科技有限公司</td>\n",
       "      <td>False</td>\n",
       "      <td>False</td>\n",
       "      <td>True</td>\n",
       "      <td>True</td>\n",
       "      <td>80.227039</td>\n",
       "    </tr>\n",
       "    <tr>\n",
       "      <th>4</th>\n",
       "      <td>16708718593060247750</td>\n",
       "      <td>北京普恩光德生物科技开发有限公司</td>\n",
       "      <td>False</td>\n",
       "      <td>False</td>\n",
       "      <td>True</td>\n",
       "      <td>True</td>\n",
       "      <td>79.808484</td>\n",
       "    </tr>\n",
       "    <tr>\n",
       "      <th>5</th>\n",
       "      <td>5117616803064195926</td>\n",
       "      <td>成都康弘药业集团股份有限公司</td>\n",
       "      <td>False</td>\n",
       "      <td>False</td>\n",
       "      <td>True</td>\n",
       "      <td>True</td>\n",
       "      <td>79.777199</td>\n",
       "    </tr>\n",
       "    <tr>\n",
       "      <th>6</th>\n",
       "      <td>211205014583938100</td>\n",
       "      <td>上海君实生物医药科技股份有限公司</td>\n",
       "      <td>False</td>\n",
       "      <td>False</td>\n",
       "      <td>True</td>\n",
       "      <td>True</td>\n",
       "      <td>77.562217</td>\n",
       "    </tr>\n",
       "    <tr>\n",
       "      <th>7</th>\n",
       "      <td>11995805675138194722</td>\n",
       "      <td>北京英诺特生物技术有限公司</td>\n",
       "      <td>False</td>\n",
       "      <td>False</td>\n",
       "      <td>True</td>\n",
       "      <td>True</td>\n",
       "      <td>77.377668</td>\n",
       "    </tr>\n",
       "    <tr>\n",
       "      <th>8</th>\n",
       "      <td>13230424627416210522</td>\n",
       "      <td>德泰生物科技（南京）有限公司</td>\n",
       "      <td>False</td>\n",
       "      <td>False</td>\n",
       "      <td>True</td>\n",
       "      <td>True</td>\n",
       "      <td>77.133706</td>\n",
       "    </tr>\n",
       "    <tr>\n",
       "      <th>9</th>\n",
       "      <td>4379513769467705250</td>\n",
       "      <td>上海复宏汉霖生物技术有限公司</td>\n",
       "      <td>False</td>\n",
       "      <td>False</td>\n",
       "      <td>True</td>\n",
       "      <td>True</td>\n",
       "      <td>76.654693</td>\n",
       "    </tr>\n",
       "    <tr>\n",
       "      <th>10</th>\n",
       "      <td>6423440857461689396</td>\n",
       "      <td>基蛋生物科技股份有限公司</td>\n",
       "      <td>False</td>\n",
       "      <td>False</td>\n",
       "      <td>True</td>\n",
       "      <td>True</td>\n",
       "      <td>76.397827</td>\n",
       "    </tr>\n",
       "    <tr>\n",
       "      <th>11</th>\n",
       "      <td>694825884411806076</td>\n",
       "      <td>健康元药业集团股份有限公司</td>\n",
       "      <td>False</td>\n",
       "      <td>False</td>\n",
       "      <td>True</td>\n",
       "      <td>True</td>\n",
       "      <td>75.992296</td>\n",
       "    </tr>\n",
       "    <tr>\n",
       "      <th>12</th>\n",
       "      <td>9767817909941172171</td>\n",
       "      <td>天演药业（苏州）有限公司</td>\n",
       "      <td>False</td>\n",
       "      <td>False</td>\n",
       "      <td>True</td>\n",
       "      <td>True</td>\n",
       "      <td>75.850553</td>\n",
       "    </tr>\n",
       "    <tr>\n",
       "      <th>13</th>\n",
       "      <td>13027579048810305010</td>\n",
       "      <td>武汉生之源生物科技股份有限公司</td>\n",
       "      <td>False</td>\n",
       "      <td>False</td>\n",
       "      <td>True</td>\n",
       "      <td>True</td>\n",
       "      <td>75.624778</td>\n",
       "    </tr>\n",
       "    <tr>\n",
       "      <th>14</th>\n",
       "      <td>3962813504042778396</td>\n",
       "      <td>嘉和生物药业有限公司</td>\n",
       "      <td>False</td>\n",
       "      <td>False</td>\n",
       "      <td>True</td>\n",
       "      <td>True</td>\n",
       "      <td>75.503074</td>\n",
       "    </tr>\n",
       "    <tr>\n",
       "      <th>15</th>\n",
       "      <td>4450488590493126362</td>\n",
       "      <td>安徽东方帝维生物制品股份有限公司</td>\n",
       "      <td>False</td>\n",
       "      <td>False</td>\n",
       "      <td>True</td>\n",
       "      <td>True</td>\n",
       "      <td>75.471564</td>\n",
       "    </tr>\n",
       "    <tr>\n",
       "      <th>16</th>\n",
       "      <td>15259772713345858490</td>\n",
       "      <td>南京普朗医疗设备有限公司</td>\n",
       "      <td>False</td>\n",
       "      <td>False</td>\n",
       "      <td>True</td>\n",
       "      <td>True</td>\n",
       "      <td>75.255348</td>\n",
       "    </tr>\n",
       "    <tr>\n",
       "      <th>17</th>\n",
       "      <td>12950112739735050959</td>\n",
       "      <td>常州百代生物科技有限公司</td>\n",
       "      <td>False</td>\n",
       "      <td>False</td>\n",
       "      <td>True</td>\n",
       "      <td>True</td>\n",
       "      <td>74.668513</td>\n",
       "    </tr>\n",
       "    <tr>\n",
       "      <th>18</th>\n",
       "      <td>11114282801697950724</td>\n",
       "      <td>石家庄以岭药业股份有限公司</td>\n",
       "      <td>False</td>\n",
       "      <td>False</td>\n",
       "      <td>True</td>\n",
       "      <td>True</td>\n",
       "      <td>74.290608</td>\n",
       "    </tr>\n",
       "    <tr>\n",
       "      <th>19</th>\n",
       "      <td>15074976893613887482</td>\n",
       "      <td>云南沃森生物技术股份有限公司</td>\n",
       "      <td>False</td>\n",
       "      <td>False</td>\n",
       "      <td>True</td>\n",
       "      <td>True</td>\n",
       "      <td>74.066911</td>\n",
       "    </tr>\n",
       "  </tbody>\n",
       "</table>\n",
       "</div>"
      ],
      "text/plain": [
       "                 comp_id         comp_name  has_branch_relation  \\\n",
       "0   10024242744073432393  博奥赛斯（天津）生物科技有限公司                False   \n",
       "1    3935273098716328559   武汉友芝友医疗科技股份有限公司                False   \n",
       "2       2106199815052274      上海裕隆生物科技有限公司                False   \n",
       "3    4480994565427179187    北京嘉宝仁和医疗科技有限公司                False   \n",
       "4   16708718593060247750  北京普恩光德生物科技开发有限公司                False   \n",
       "5    5117616803064195926    成都康弘药业集团股份有限公司                False   \n",
       "6     211205014583938100  上海君实生物医药科技股份有限公司                False   \n",
       "7   11995805675138194722     北京英诺特生物技术有限公司                False   \n",
       "8   13230424627416210522    德泰生物科技（南京）有限公司                False   \n",
       "9    4379513769467705250    上海复宏汉霖生物技术有限公司                False   \n",
       "10   6423440857461689396      基蛋生物科技股份有限公司                False   \n",
       "11    694825884411806076     健康元药业集团股份有限公司                False   \n",
       "12   9767817909941172171      天演药业（苏州）有限公司                False   \n",
       "13  13027579048810305010   武汉生之源生物科技股份有限公司                False   \n",
       "14   3962813504042778396        嘉和生物药业有限公司                False   \n",
       "15   4450488590493126362  安徽东方帝维生物制品股份有限公司                False   \n",
       "16  15259772713345858490      南京普朗医疗设备有限公司                False   \n",
       "17  12950112739735050959      常州百代生物科技有限公司                False   \n",
       "18  11114282801697950724     石家庄以岭药业股份有限公司                False   \n",
       "19  15074976893613887482    云南沃森生物技术股份有限公司                False   \n",
       "\n",
       "    has_stock_relation  is_same_link  is_same_tree  sim_value  \n",
       "0                False          True          True  85.458986  \n",
       "1                False          True          True  81.816233  \n",
       "2                False          True          True  81.132960  \n",
       "3                False          True          True  80.227039  \n",
       "4                False          True          True  79.808484  \n",
       "5                False          True          True  79.777199  \n",
       "6                False          True          True  77.562217  \n",
       "7                False          True          True  77.377668  \n",
       "8                False          True          True  77.133706  \n",
       "9                False          True          True  76.654693  \n",
       "10               False          True          True  76.397827  \n",
       "11               False          True          True  75.992296  \n",
       "12               False          True          True  75.850553  \n",
       "13               False          True          True  75.624778  \n",
       "14               False          True          True  75.503074  \n",
       "15               False          True          True  75.471564  \n",
       "16               False          True          True  75.255348  \n",
       "17               False          True          True  74.668513  \n",
       "18               False          True          True  74.290608  \n",
       "19               False          True          True  74.066911  "
      ]
     },
     "execution_count": 45,
     "metadata": {},
     "output_type": "execute_result"
    }
   ],
   "source": [
    "pd.DataFrame(r.json().get(\"data\"))"
   ]
  },
  {
   "cell_type": "code",
   "execution_count": 37,
   "metadata": {},
   "outputs": [],
   "source": [
    "comp_id_list = list(set(pd.read_excel(\"companies.xlsx\")[\"公司id\"]))"
   ]
  },
  {
   "cell_type": "code",
   "execution_count": 38,
   "metadata": {},
   "outputs": [],
   "source": [
    "comp_name_list = list(set(pd.read_excel(\"companies.xlsx\")[\"公司名\"]))"
   ]
  },
  {
   "cell_type": "code",
   "execution_count": 36,
   "metadata": {},
   "outputs": [],
   "source": [
    "def get_competitors_from_api(comp_name, comp_info=\"\"):\n",
    "    result = requests.post(\"http://172.29.237.212:8999/recommendation\", data={\"comp_name\": comp_name, \"comp_info\": comp_info, \"response_num\": 50})\n",
    "    result_df = pd.DataFrame(result.json().get(\"data\"))\n",
    "    result_df.to_excel(\"310公司/%s.xlsx\" % comp_name)"
   ]
  },
  {
   "cell_type": "code",
   "execution_count": 46,
   "metadata": {},
   "outputs": [
    {
     "name": "stdout",
     "output_type": "stream",
     "text": [
      "#### 0 start 北京诚益通控制工程科技股份有限公司 #####\n",
      "#### save 北京诚益通控制工程科技股份有限公司 ####\n",
      "#### 1 start 京东方科技集团股份有限公司 #####\n",
      "#### save 京东方科技集团股份有限公司 ####\n",
      "#### 2 start 创业黑马(北京)科技股份有限公司 #####\n",
      "#### save 创业黑马(北京)科技股份有限公司 ####\n",
      "#### 3 start 北京华录百纳影视股份有限公司 #####\n",
      "#### save 北京华录百纳影视股份有限公司 ####\n",
      "#### 4 start 华远地产股份有限公司 #####\n",
      "#### save 华远地产股份有限公司 ####\n",
      "#### 5 start 北京当升材料科技股份有限公司 #####\n",
      "#### save 北京当升材料科技股份有限公司 ####\n",
      "#### 6 start 中国电力建设股份有限公司 #####\n",
      "#### save 中国电力建设股份有限公司 ####\n",
      "#### 7 start 北京君正集成电路股份有限公司 #####\n",
      "#### save 北京君正集成电路股份有限公司 ####\n",
      "#### 8 start 北京金隅集团股份有限公司 #####\n",
      "#### save 北京金隅集团股份有限公司 ####\n",
      "#### 9 start 北京城建投资发展股份有限公司 #####\n",
      "#### save 北京城建投资发展股份有限公司 ####\n",
      "#### 10 start 北京利尔高温材料股份有限公司 #####\n",
      "#### save 北京利尔高温材料股份有限公司 ####\n",
      "#### 11 start 北京世纪瑞尔技术股份有限公司 #####\n",
      "#### save 北京世纪瑞尔技术股份有限公司 ####\n",
      "#### 12 start 北京鼎汉技术股份有限公司 #####\n",
      "#### save 北京鼎汉技术股份有限公司 ####\n",
      "#### 13 start 北京城乡商业(集团)股份有限公司 #####\n",
      "#### save 北京城乡商业(集团)股份有限公司 ####\n",
      "#### 14 start 东方网力科技股份有限公司 #####\n",
      "#### save 东方网力科技股份有限公司 ####\n",
      "#### 15 start 航天长征化学工程股份有限公司 #####\n",
      "#### save 航天长征化学工程股份有限公司 ####\n",
      "#### 16 start 北方国际合作股份有限公司 #####\n",
      "#### save 北方国际合作股份有限公司 ####\n",
      "#### 17 start 东方时尚驾驶学校股份有限公司 #####\n",
      "#### save 东方时尚驾驶学校股份有限公司 ####\n",
      "#### 18 start 北京弘高创意建筑设计股份有限公司 #####\n",
      "#### save 北京弘高创意建筑设计股份有限公司 ####\n",
      "#### 19 start 北京钢研高纳科技股份有限公司 #####\n",
      "#### save 北京钢研高纳科技股份有限公司 ####\n",
      "#### 20 start 北京东方中科集成科技股份有限公司 #####\n",
      "#### save 北京东方中科集成科技股份有限公司 ####\n",
      "#### 21 start 北京科蓝软件系统股份有限公司 #####\n",
      "#### save 北京科蓝软件系统股份有限公司 ####\n",
      "#### 22 start 北京中石伟业科技股份有限公司 #####\n",
      "#### save 北京中石伟业科技股份有限公司 ####\n",
      "#### 23 start 北京恒泰实达科技股份有限公司 #####\n",
      "#### save 北京恒泰实达科技股份有限公司 ####\n",
      "#### 24 start 北京捷成世纪科技股份有限公司 #####\n",
      "#### save 北京捷成世纪科技股份有限公司 ####\n",
      "#### 25 start 北京安达维尔科技股份有限公司 #####\n",
      "#### save 北京安达维尔科技股份有限公司 ####\n",
      "#### 26 start 潜能恒信能源技术股份有限公司 #####\n",
      "#### save 潜能恒信能源技术股份有限公司 ####\n",
      "#### 27 start 中国国际贸易中心股份有限公司 #####\n",
      "#### save 中国国际贸易中心股份有限公司 ####\n",
      "#### 28 start 北京乾景园林股份有限公司 #####\n",
      "#### save 北京乾景园林股份有限公司 ####\n",
      "#### 29 start 用友网络科技股份有限公司 #####\n",
      "#### save 用友网络科技股份有限公司 ####\n",
      "#### 30 start 北京中关村科技发展(控股)股份有限公司 #####\n",
      "#### save 北京中关村科技发展(控股)股份有限公司 ####\n",
      "#### 31 start 北京佳讯飞鸿电气股份有限公司 #####\n",
      "#### save 北京佳讯飞鸿电气股份有限公司 ####\n",
      "#### 32 start 天壕环境股份有限公司 #####\n",
      "#### save 天壕环境股份有限公司 ####\n",
      "#### 33 start 中国船舶重工集团海洋防务与信息对抗股份有限公司 #####\n",
      "#### save 中国船舶重工集团海洋防务与信息对抗股份有限公司 ####\n",
      "#### 34 start 北京嘉寓门窗幕墙股份有限公司 #####\n",
      "#### save 北京嘉寓门窗幕墙股份有限公司 ####\n",
      "#### 35 start 众信旅游集团股份有限公司 #####\n",
      "#### save 众信旅游集团股份有限公司 ####\n",
      "#### 36 start 利亚德光电股份有限公司 #####\n",
      "#### save 利亚德光电股份有限公司 ####\n",
      "#### 37 start 北京航天长峰股份有限公司 #####\n",
      "#### save 北京航天长峰股份有限公司 ####\n",
      "#### 38 start 广联达科技股份有限公司 #####\n",
      "#### save 广联达科技股份有限公司 ####\n",
      "#### 39 start 中国软件与技术服务股份有限公司 #####\n",
      "#### save 中国软件与技术服务股份有限公司 ####\n",
      "#### 40 start 北京同有飞骥科技股份有限公司 #####\n",
      "#### save 北京同有飞骥科技股份有限公司 ####\n",
      "#### 41 start 北京北辰实业股份有限公司 #####\n",
      "#### save 北京北辰实业股份有限公司 ####\n",
      "#### 42 start 北京无线天利移动信息技术股份有限公司 #####\n",
      "#### save 北京无线天利移动信息技术股份有限公司 ####\n",
      "#### 43 start 曲美家居集团股份有限公司 #####\n",
      "#### save 曲美家居集团股份有限公司 ####\n",
      "#### 44 start 北京科锐国际人力资源股份有限公司 #####\n",
      "#### save 北京科锐国际人力资源股份有限公司 ####\n",
      "#### 45 start 大恒新纪元科技股份有限公司 #####\n",
      "#### save 大恒新纪元科技股份有限公司 ####\n",
      "#### 46 start 中国全聚德(集团)股份有限公司 #####\n",
      "#### save 中国全聚德(集团)股份有限公司 ####\n",
      "#### 47 start 北京华业资本控股股份有限公司 #####\n",
      "#### save 北京华业资本控股股份有限公司 ####\n",
      "#### 48 start 国投中鲁果汁股份有限公司 #####\n",
      "#### save 国投中鲁果汁股份有限公司 ####\n",
      "#### 49 start 北京京运通科技股份有限公司 #####\n",
      "#### save 北京京运通科技股份有限公司 ####\n",
      "#### 50 start 北京首旅酒店(集团)股份有限公司 #####\n",
      "#### save 北京首旅酒店(集团)股份有限公司 ####\n",
      "#### 51 start 北京华谊嘉信整合营销顾问集团股份有限公司 #####\n",
      "#### save 北京华谊嘉信整合营销顾问集团股份有限公司 ####\n",
      "#### 52 start 北新集团建材股份有限公司 #####\n",
      "#### save 北新集团建材股份有限公司 ####\n",
      "#### 53 start 博天环境集团股份有限公司 #####\n",
      "#### save 博天环境集团股份有限公司 ####\n",
      "#### 54 start 北京京西文化旅游股份有限公司 #####\n",
      "#### save 北京京西文化旅游股份有限公司 ####\n",
      "#### 55 start 北京合众思壮科技股份有限公司 #####\n",
      "#### save 北京合众思壮科技股份有限公司 ####\n",
      "#### 56 start 北京信威科技集团股份有限公司 #####\n",
      "#### save 北京信威科技集团股份有限公司 ####\n",
      "#### 57 start 北京华宇软件股份有限公司 #####\n",
      "#### save 北京华宇软件股份有限公司 ####\n",
      "#### 58 start 北京梅泰诺通信技术股份有限公司 #####\n",
      "#### save 北京梅泰诺通信技术股份有限公司 ####\n",
      "#### 59 start 北京金一文化发展股份有限公司 #####\n",
      "#### save 北京金一文化发展股份有限公司 ####\n",
      "#### 60 start 北京盛通印刷股份有限公司 #####\n",
      "#### save 北京盛通印刷股份有限公司 ####\n",
      "#### 61 start 太极计算机股份有限公司 #####\n",
      "#### save 太极计算机股份有限公司 ####\n",
      "#### 62 start 中房置业股份有限公司 #####\n",
      "#### save 中房置业股份有限公司 ####\n",
      "#### 63 start 中国建筑股份有限公司 #####\n",
      "#### save 中国建筑股份有限公司 ####\n",
      "#### 64 start 中文在线数字出版集团股份有限公司 #####\n",
      "#### save 中文在线数字出版集团股份有限公司 ####\n",
      "#### 65 start 紫光股份有限公司 #####\n",
      "#### save 紫光股份有限公司 ####\n",
      "#### 66 start 北京北信源软件股份有限公司 #####\n",
      "#### save 北京北信源软件股份有限公司 ####\n",
      "#### 67 start 北京晓程科技股份有限公司 #####\n",
      "#### save 北京晓程科技股份有限公司 ####\n",
      "#### 68 start 中信银行股份有限公司 #####\n",
      "#### save 中信银行股份有限公司 ####\n",
      "#### 69 start 北京恒通创新赛木科技股份有限公司 #####\n",
      "#### save 北京恒通创新赛木科技股份有限公司 ####\n",
      "#### 70 start 中国科技出版传媒股份有限公司 #####\n",
      "#### save 中国科技出版传媒股份有限公司 ####\n",
      "#### 71 start 新华网股份有限公司 #####\n",
      "#### save 新华网股份有限公司 ####\n",
      "#### 72 start 中金黄金股份有限公司 #####\n",
      "#### save 中金黄金股份有限公司 ####\n",
      "#### 73 start 北京必创科技股份有限公司 #####\n",
      "#### save 北京必创科技股份有限公司 ####\n",
      "#### 74 start 北京首航艾启威节能技术股份有限公司 #####\n",
      "#### save 北京首航艾启威节能技术股份有限公司 ####\n",
      "#### 75 start 北京大北农科技集团股份有限公司 #####\n",
      "#### save 北京大北农科技集团股份有限公司 ####\n",
      "#### 76 start 华油惠博普科技股份有限公司 #####\n",
      "#### save 华油惠博普科技股份有限公司 ####\n",
      "#### 77 start 新晨科技股份有限公司 #####\n",
      "#### save 新晨科技股份有限公司 ####\n",
      "#### 78 start 中国东方红卫星股份有限公司 #####\n",
      "#### save 中国东方红卫星股份有限公司 ####\n",
      "#### 79 start 中信国安信息产业股份有限公司 #####\n",
      "#### save 中信国安信息产业股份有限公司 ####\n",
      "#### 80 start 渤海水业股份有限公司 #####\n",
      "#### save 渤海水业股份有限公司 ####\n",
      "#### 81 start 中国长江电力股份有限公司 #####\n",
      "#### save 中国长江电力股份有限公司 ####\n",
      "#### 82 start 北京先进数通信息技术股份公司 #####\n",
      "#### save 北京先进数通信息技术股份公司 ####\n",
      "#### 83 start 中青旅控股股份有限公司 #####\n",
      "#### save 中青旅控股股份有限公司 ####\n",
      "#### 84 start 奥瑞金科技股份有限公司 #####\n",
      "#### save 奥瑞金科技股份有限公司 ####\n",
      "#### 85 start 北京腾信创新网络营销技术股份有限公司 #####\n",
      "#### save 北京腾信创新网络营销技术股份有限公司 ####\n",
      "#### 86 start 中成进出口股份有限公司 #####\n",
      "#### save 中成进出口股份有限公司 ####\n",
      "#### 87 start 江河创建集团股份有限公司 #####\n",
      "#### save 江河创建集团股份有限公司 ####\n",
      "#### 88 start 华润双鹤药业股份有限公司 #####\n",
      "#### save 华润双鹤药业股份有限公司 ####\n",
      "#### 89 start 中航航空电子系统股份有限公司 #####\n",
      "#### save 中航航空电子系统股份有限公司 ####\n",
      "#### 90 start 北方华创科技集团股份有限公司 #####\n",
      "#### save 北方华创科技集团股份有限公司 ####\n",
      "#### 91 start 北京东土科技股份有限公司 #####\n",
      "#### save 北京东土科技股份有限公司 ####\n",
      "#### 92 start 北京昊华能源股份有限公司 #####\n",
      "#### save 北京昊华能源股份有限公司 ####\n",
      "#### 93 start 瑞斯康达科技发展股份有限公司 #####\n",
      "#### save 瑞斯康达科技发展股份有限公司 ####\n",
      "#### 94 start 北京科锐配电自动化股份有限公司 #####\n",
      "#### save 北京科锐配电自动化股份有限公司 ####\n",
      "#### 95 start 华夏银行股份有限公司 #####\n",
      "#### save 华夏银行股份有限公司 ####\n",
      "#### 96 start 东华软件股份公司 #####\n",
      "#### save 东华软件股份公司 ####\n",
      "#### 97 start 北京中科金财科技股份有限公司 #####\n",
      "#### save 北京中科金财科技股份有限公司 ####\n",
      "#### 98 start 北京东方园林环境股份有限公司 #####\n",
      "#### save 北京东方园林环境股份有限公司 ####\n",
      "#### 99 start 北京万向新元科技股份有限公司 #####\n",
      "#### save 北京万向新元科技股份有限公司 ####\n",
      "#### 100 start 北京立思辰科技股份有限公司 #####\n",
      "#### save 北京立思辰科技股份有限公司 ####\n",
      "#### 101 start 北京华远意通热力科技股份有限公司 #####\n",
      "#### save 北京华远意通热力科技股份有限公司 ####\n",
      "#### 102 start 北方导航控制技术股份有限公司 #####\n",
      "#### save 北方导航控制技术股份有限公司 ####\n",
      "#### 103 start 北京淳中科技股份有限公司 #####\n",
      "#### save 北京淳中科技股份有限公司 ####\n",
      "#### 104 start 北京首钢股份有限公司 #####\n",
      "#### save 北京首钢股份有限公司 ####\n",
      "#### 105 start 北京巴士传媒股份有限公司 #####\n",
      "#### save 北京巴士传媒股份有限公司 ####\n",
      "#### 106 start 北京数字认证股份有限公司 #####\n",
      "#### save 北京数字认证股份有限公司 ####\n",
      "#### 107 start 北京数字政通科技股份有限公司 #####\n",
      "#### save 北京数字政通科技股份有限公司 ####\n",
      "#### 108 start 北京新雷能科技股份有限公司 #####\n",
      "#### save 北京新雷能科技股份有限公司 ####\n",
      "#### 109 start 朗姿股份有限公司 #####\n",
      "#### save 朗姿股份有限公司 ####\n",
      "#### 110 start 安泰科技股份有限公司 #####\n",
      "#### save 安泰科技股份有限公司 ####\n",
      "#### 111 start 北京华联综合超市股份有限公司 #####\n",
      "#### save 北京华联综合超市股份有限公司 ####\n",
      "#### 112 start 财信国兴地产发展股份有限公司 #####\n",
      "#### save 财信国兴地产发展股份有限公司 ####\n",
      "#### 113 start 圣邦微电子(北京)股份有限公司 #####\n",
      "#### save 圣邦微电子(北京)股份有限公司 ####\n",
      "#### 114 start 北京银行股份有限公司 #####\n",
      "#### save 北京银行股份有限公司 ####\n",
      "#### 115 start 五矿发展股份有限公司 #####\n",
      "#### save 五矿发展股份有限公司 ####\n",
      "#### 116 start 中农立华生物科技股份有限公司 #####\n",
      "#### save 中农立华生物科技股份有限公司 ####\n",
      "#### 117 start 中科云网科技集团股份有限公司 #####\n",
      "#### save 中科云网科技集团股份有限公司 ####\n",
      "#### 118 start 高伟达软件股份有限公司 #####\n",
      "#### save 高伟达软件股份有限公司 ####\n",
      "#### 119 start 暴风集团股份有限公司 #####\n",
      "#### save 暴风集团股份有限公司 ####\n",
      "#### 120 start 北京动力源科技股份有限公司 #####\n",
      "#### save 北京动力源科技股份有限公司 ####\n",
      "#### 121 start 华扬联众数字技术股份有限公司 #####\n",
      "#### save 华扬联众数字技术股份有限公司 ####\n",
      "#### 122 start 北京三元食品股份有限公司 #####\n",
      "#### save 北京三元食品股份有限公司 ####\n",
      "#### 123 start 北京星网宇达科技股份有限公司 #####\n",
      "#### save 北京星网宇达科技股份有限公司 ####\n",
      "#### 124 start 北京华力创通科技股份有限公司 #####\n",
      "#### save 北京华力创通科技股份有限公司 ####\n",
      "#### 125 start 京能置业股份有限公司 #####\n",
      "#### save 京能置业股份有限公司 ####\n",
      "#### 126 start 北京安控科技股份有限公司 #####\n",
      "#### save 北京安控科技股份有限公司 ####\n",
      "#### 127 start 有研新材料股份有限公司 #####\n",
      "#### save 有研新材料股份有限公司 ####\n",
      "#### 128 start 天地科技股份有限公司 #####\n",
      "#### save 天地科技股份有限公司 ####\n",
      "#### 129 start 东易日盛家居装饰集团股份有限公司 #####\n",
      "#### save 东易日盛家居装饰集团股份有限公司 ####\n",
      "#### 130 start 北京雪迪龙科技股份有限公司 #####\n",
      "#### save 北京雪迪龙科技股份有限公司 ####\n",
      "#### 131 start 北京天坛生物制品股份有限公司 #####\n",
      "#### save 北京天坛生物制品股份有限公司 ####\n",
      "#### 132 start 中牧实业股份有限公司 #####\n",
      "#### save 中牧实业股份有限公司 ####\n",
      "#### 133 start 北京清新环境技术股份有限公司 #####\n",
      "#### save 北京清新环境技术股份有限公司 ####\n",
      "#### 134 start 新华联文化旅游发展股份有限公司 #####\n",
      "#### save 新华联文化旅游发展股份有限公司 ####\n",
      "#### 135 start 中国铝业股份有限公司 #####\n",
      "#### save 中国铝业股份有限公司 ####\n",
      "#### 136 start 中化岩土集团股份有限公司 #####\n",
      "#### save 中化岩土集团股份有限公司 ####\n",
      "#### 137 start 北京双杰电气股份有限公司 #####\n",
      "#### save 北京双杰电气股份有限公司 ####\n",
      "#### 138 start 中信建投证券股份有限公司 #####\n",
      "#### save 中信建投证券股份有限公司 ####\n",
      "#### 139 start 宣亚国际品牌管理(北京)股份有限公司 #####\n",
      "#### save 宣亚国际品牌管理(北京)股份有限公司 ####\n",
      "#### 140 start 北京耐威科技股份有限公司 #####\n",
      "#### save 北京耐威科技股份有限公司 ####\n",
      "#### 141 start 中国光大银行股份有限公司 #####\n",
      "#### save 中国光大银行股份有限公司 ####\n",
      "#### 142 start 中农发种业集团股份有限公司 #####\n",
      "#### save 中农发种业集团股份有限公司 ####\n",
      "#### 143 start 博彦科技股份有限公司 #####\n",
      "#### save 博彦科技股份有限公司 ####\n",
      "#### 144 start 中国中铁股份有限公司 #####\n",
      "#### save 中国中铁股份有限公司 ####\n",
      "#### 145 start 北京兆易创新科技股份有限公司 #####\n",
      "#### save 北京兆易创新科技股份有限公司 ####\n",
      "#### 146 start 北京超图软件股份有限公司 #####\n",
      "#### save 北京超图软件股份有限公司 ####\n",
      "#### 147 start 中国冶金科工股份有限公司 #####\n",
      "#### save 中国冶金科工股份有限公司 ####\n",
      "#### 148 start 北京汉邦高科数字技术股份有限公司 #####\n",
      "#### save 北京汉邦高科数字技术股份有限公司 ####\n",
      "#### 149 start 嘉事堂药业股份有限公司 #####\n",
      "#### save 嘉事堂药业股份有限公司 ####\n",
      "#### 150 start 中国银行股份有限公司 #####\n",
      "#### save 中国银行股份有限公司 ####\n",
      "#### 151 start 能科节能技术股份有限公司 #####\n",
      "#### save 能科节能技术股份有限公司 ####\n",
      "#### 152 start 北京高能时代环境技术股份有限公司 #####\n",
      "#### save 北京高能时代环境技术股份有限公司 ####\n",
      "#### 153 start 北京赛升药业股份有限公司 #####\n",
      "#### save 北京赛升药业股份有限公司 ####\n",
      "#### 154 start 中国中车股份有限公司 #####\n",
      "#### save 中国中车股份有限公司 ####\n",
      "#### 155 start 北京海兰信数据科技股份有限公司 #####\n",
      "#### save 北京海兰信数据科技股份有限公司 ####\n",
      "#### 156 start 北京康拓红外技术股份有限公司 #####\n",
      "#### save 北京康拓红外技术股份有限公司 ####\n",
      "#### 157 start 金诚信矿业管理股份有限公司 #####\n",
      "#### save 金诚信矿业管理股份有限公司 ####\n",
      "#### 158 start 中国神华能源股份有限公司 #####\n",
      "#### save 中国神华能源股份有限公司 ####\n",
      "#### 159 start 北京恒华伟业科技股份有限公司 #####\n",
      "#### save 北京恒华伟业科技股份有限公司 ####\n",
      "#### 160 start 北京首商集团股份有限公司 #####\n",
      "#### save 北京首商集团股份有限公司 ####\n",
      "#### 161 start 北京神州绿盟信息安全科技股份有限公司 #####\n",
      "#### save 北京神州绿盟信息安全科技股份有限公司 ####\n",
      "#### 162 start 北京高盟新材料股份有限公司 #####\n",
      "#### save 北京高盟新材料股份有限公司 ####\n",
      "#### 163 start 北京利德曼生化股份有限公司 #####\n",
      "#### save 北京利德曼生化股份有限公司 ####\n",
      "#### 164 start 三盛智慧教育科技股份有限公司 #####\n",
      "#### save 三盛智慧教育科技股份有限公司 ####\n",
      "#### 165 start 中工国际工程股份有限公司 #####\n",
      "#### save 中工国际工程股份有限公司 ####\n",
      "#### 166 start 经纬纺织机械股份有限公司 #####\n",
      "#### save 经纬纺织机械股份有限公司 ####\n",
      "#### 167 start 中国建材检验认证集团股份有限公司 #####\n",
      "#### save 中国建材检验认证集团股份有限公司 ####\n",
      "#### 168 start 中国民生银行股份有限公司 #####\n",
      "#### save 中国民生银行股份有限公司 ####\n",
      "#### 169 start 北京碧水源科技股份有限公司 #####\n",
      "#### save 北京碧水源科技股份有限公司 ####\n",
      "#### 170 start 中国中煤能源股份有限公司 #####\n",
      "#### save 中国中煤能源股份有限公司 ####\n",
      "#### 171 start 中外运空运发展股份有限公司 #####\n",
      "#### save 中外运空运发展股份有限公司 ####\n",
      "#### 172 start 北京昆仑万维科技股份有限公司 #####\n",
      "#### save 北京昆仑万维科技股份有限公司 ####\n",
      "#### 173 start 北矿科技股份有限公司 #####\n",
      "#### save 北矿科技股份有限公司 ####\n",
      "#### 174 start 北京东方国信科技股份有限公司 #####\n",
      "#### save 北京东方国信科技股份有限公司 ####\n",
      "#### 175 start 北京数码视讯科技股份有限公司 #####\n",
      "#### save 北京数码视讯科技股份有限公司 ####\n",
      "#### 176 start 同方股份有限公司 #####\n",
      "#### save 同方股份有限公司 ####\n",
      "#### 177 start 中持水务股份有限公司 #####\n",
      "#### save 中持水务股份有限公司 ####\n",
      "#### 178 start 中国建设银行股份有限公司 #####\n",
      "#### save 中国建设银行股份有限公司 ####\n",
      "#### 179 start 北京东方新星石化工程股份有限公司 #####\n",
      "#### save 北京东方新星石化工程股份有限公司 ####\n",
      "#### 180 start 中国出版传媒股份有限公司 #####\n",
      "#### save 中国出版传媒股份有限公司 ####\n",
      "#### 181 start 王府井集团股份有限公司 #####\n",
      "#### save 王府井集团股份有限公司 ####\n",
      "#### 182 start 吉艾科技集团股份公司 #####\n",
      "#### save 吉艾科技集团股份公司 ####\n",
      "#### 183 start 北京韩建河山管业股份有限公司 #####\n",
      "#### save 北京韩建河山管业股份有限公司 ####\n",
      "#### 184 start 北京三夫户外用品股份有限公司 #####\n",
      "#### save 北京三夫户外用品股份有限公司 ####\n",
      "#### 185 start 掌阅科技股份有限公司 #####\n",
      "#### save 掌阅科技股份有限公司 ####\n",
      "#### 186 start 中国高科集团股份有限公司 #####\n",
      "#### save 中国高科集团股份有限公司 ####\n",
      "#### 187 start 北京燕京啤酒股份有限公司 #####\n",
      "#### save 北京燕京啤酒股份有限公司 ####\n",
      "#### 188 start 中节能风力发电股份有限公司 #####\n",
      "#### save 中节能风力发电股份有限公司 ####\n",
      "#### 189 start 北京华联商厦股份有限公司 #####\n",
      "#### save 北京华联商厦股份有限公司 ####\n",
      "#### 190 start 北京易华录信息技术股份有限公司 #####\n",
      "#### save 北京易华录信息技术股份有限公司 ####\n",
      "#### 191 start 中国船舶重工股份有限公司 #####\n",
      "#### save 中国船舶重工股份有限公司 ####\n",
      "#### 192 start 三一重工股份有限公司 #####\n",
      "#### save 三一重工股份有限公司 ####\n",
      "#### 193 start 招商局公路网络科技控股股份有限公司 #####\n",
      "#### save 招商局公路网络科技控股股份有限公司 ####\n",
      "#### 194 start 航天信息股份有限公司 #####\n",
      "#### save 航天信息股份有限公司 ####\n",
      "#### 195 start 中国石油化工股份有限公司 #####\n",
      "#### save 中国石油化工股份有限公司 ####\n",
      "#### 196 start 中国联合网络通信股份有限公司 #####\n",
      "#### save 中国联合网络通信股份有限公司 ####\n",
      "#### 197 start 乐普(北京)医疗器械股份有限公司 #####\n",
      "#### save 乐普(北京)医疗器械股份有限公司 ####\n",
      "#### 198 start 北京光线传媒股份有限公司 #####\n",
      "#### save 北京光线传媒股份有限公司 ####\n",
      "#### 199 start 际华集团股份有限公司 #####\n",
      "#### save 际华集团股份有限公司 ####\n",
      "#### 200 start 蓝星安迪苏股份有限公司 #####\n",
      "#### save 蓝星安迪苏股份有限公司 ####\n",
      "#### 201 start 北京博晖创新光电技术股份有限公司 #####\n",
      "#### save 北京博晖创新光电技术股份有限公司 ####\n",
      "#### 202 start 华锐风电科技(集团)股份有限公司 #####\n",
      "#### save 华锐风电科技(集团)股份有限公司 ####\n",
      "#### 203 start 北京神州泰岳软件股份有限公司 #####\n",
      "#### save 北京神州泰岳软件股份有限公司 ####\n",
      "#### 204 start 北京首都开发股份有限公司 #####\n",
      "#### save 北京首都开发股份有限公司 ####\n",
      "#### 205 start 神州高铁技术股份有限公司 #####\n",
      "#### save 神州高铁技术股份有限公司 ####\n",
      "#### 206 start 恒泰艾普集团股份有限公司 #####\n",
      "#### save 恒泰艾普集团股份有限公司 ####\n",
      "#### 207 start 北京思特奇信息技术股份有限公司 #####\n",
      "#### save 北京思特奇信息技术股份有限公司 ####\n",
      "#### 208 start 中国化学工程股份有限公司 #####\n",
      "#### save 中国化学工程股份有限公司 ####\n",
      "#### 209 start 中国农业银行股份有限公司 #####\n",
      "#### save 中国农业银行股份有限公司 ####\n",
      "#### 210 start 中国银河证券股份有限公司 #####\n",
      "#### save 中国银河证券股份有限公司 ####\n",
      "#### 211 start 北京东方雨虹防水技术股份有限公司 #####\n",
      "#### save 北京东方雨虹防水技术股份有限公司 ####\n",
      "#### 212 start 探路者控股集团股份有限公司 #####\n",
      "#### save 探路者控股集团股份有限公司 ####\n",
      "#### 213 start 北京京能电力股份有限公司 #####\n",
      "#### save 北京京能电力股份有限公司 ####\n",
      "#### 214 start 北京电子城投资开发集团股份有限公司 #####\n",
      "#### save 北京电子城投资开发集团股份有限公司 ####\n",
      "#### 215 start 北京光环新网科技股份有限公司 #####\n",
      "#### save 北京光环新网科技股份有限公司 ####\n",
      "#### 216 start 中国铁建股份有限公司 #####\n",
      "#### save 中国铁建股份有限公司 ####\n",
      "#### 217 start 华电重工股份有限公司 #####\n",
      "#### save 华电重工股份有限公司 ####\n",
      "#### 218 start 中国有色金属建设股份有限公司 #####\n",
      "#### save 中国有色金属建设股份有限公司 ####\n",
      "#### 219 start 北京万东医疗科技股份有限公司 #####\n",
      "#### save 北京万东医疗科技股份有限公司 ####\n",
      "#### 220 start 大唐国际发电股份有限公司 #####\n",
      "#### save 大唐国际发电股份有限公司 ####\n",
      "#### 221 start 北京北斗星通导航技术股份有限公司 #####\n",
      "#### save 北京北斗星通导航技术股份有限公司 ####\n",
      "#### 222 start 神雾环保技术股份有限公司 #####\n",
      "#### save 神雾环保技术股份有限公司 ####\n",
      "#### 223 start 国药集团药业股份有限公司 #####\n",
      "#### save 国药集团药业股份有限公司 ####\n",
      "#### 224 start 信达地产股份有限公司 #####\n",
      "#### save 信达地产股份有限公司 ####\n",
      "#### 225 start 中公高科养护科技股份有限公司 #####\n",
      "#### save 中公高科养护科技股份有限公司 ####\n",
      "#### 226 start 北京昭衍新药研究中心股份有限公司 #####\n",
      "#### save 北京昭衍新药研究中心股份有限公司 ####\n",
      "#### 227 start 北京九强生物技术股份有限公司 #####\n",
      "#### save 北京九强生物技术股份有限公司 ####\n",
      "#### 228 start 北京中长石基信息技术股份有限公司 #####\n",
      "#### save 北京中长石基信息技术股份有限公司 ####\n",
      "#### 229 start 国投电力控股股份有限公司 #####\n",
      "#### save 国投电力控股股份有限公司 ####\n",
      "#### 230 start 中石化石油工程技术服务股份有限公司 #####\n",
      "#### save 中石化石油工程技术服务股份有限公司 ####\n",
      "#### 231 start 北京合康新能科技股份有限公司 #####\n",
      "#### save 北京合康新能科技股份有限公司 ####\n",
      "#### 232 start 北京双鹭药业股份有限公司 #####\n",
      "#### save 北京双鹭药业股份有限公司 ####\n",
      "#### 233 start 北京旋极信息技术股份有限公司 #####\n",
      "#### save 北京旋极信息技术股份有限公司 ####\n",
      "#### 234 start 北京凯文德信教育科技股份有限公司 #####\n",
      "#### save 北京凯文德信教育科技股份有限公司 ####\n",
      "#### 235 start 北京千方科技股份有限公司 #####\n",
      "#### save 北京千方科技股份有限公司 ####\n",
      "#### 236 start 北京翠微大厦股份有限公司 #####\n",
      "#### save 北京翠微大厦股份有限公司 ####\n",
      "#### 237 start 中国人寿保险股份有限公司 #####\n",
      "#### save 中国人寿保险股份有限公司 ####\n",
      "#### 238 start 北京拓尔思信息技术股份有限公司 #####\n",
      "#### save 北京拓尔思信息技术股份有限公司 ####\n",
      "#### 239 start 北京长久物流股份有限公司 #####\n",
      "#### save 北京长久物流股份有限公司 ####\n",
      "#### 240 start 北京歌华有线电视网络股份有限公司 #####\n",
      "#### save 北京歌华有线电视网络股份有限公司 ####\n",
      "#### 241 start 北京浩丰创源科技股份有限公司 #####\n",
      "#### save 北京浩丰创源科技股份有限公司 ####\n",
      "#### 242 start 北京北陆药业股份有限公司 #####\n",
      "#### save 北京北陆药业股份有限公司 ####\n",
      "#### 243 start 北京中迪投资股份有限公司 #####\n",
      "#### save 北京中迪投资股份有限公司 ####\n",
      "#### 244 start 嘉友国际物流股份有限公司 #####\n",
      "#### save 嘉友国际物流股份有限公司 ####\n",
      "#### 245 start 北京康斯特仪表科技股份有限公司 #####\n",
      "#### save 北京康斯特仪表科技股份有限公司 ####\n",
      "#### 246 start 新华人寿保险股份有限公司 #####\n",
      "#### save 新华人寿保险股份有限公司 ####\n",
      "#### 247 start 北京三联虹普新合纤技术服务股份有限公司 #####\n",
      "#### save 北京三联虹普新合纤技术服务股份有限公司 ####\n",
      "#### 248 start 北京飞利信科技股份有限公司 #####\n",
      "#### save 北京飞利信科技股份有限公司 ####\n",
      "#### 249 start 北京银信长远科技股份有限公司 #####\n",
      "#### save 北京银信长远科技股份有限公司 ####\n",
      "#### 250 start 北京华胜天成科技股份有限公司 #####\n",
      "#### save 北京华胜天成科技股份有限公司 ####\n",
      "#### 251 start 北京合纵科技股份有限公司 #####\n",
      "#### save 北京合纵科技股份有限公司 ####\n",
      "#### 252 start 北汽福田汽车股份有限公司 #####\n",
      "#### save 北汽福田汽车股份有限公司 ####\n",
      "#### 253 start 中国国旅股份有限公司 #####\n",
      "#### save 中国国旅股份有限公司 ####\n",
      "#### 254 start 北京中科三环高技术股份有限公司 #####\n",
      "#### save 北京中科三环高技术股份有限公司 ####\n",
      "#### 255 start 瑞泰科技股份有限公司 #####\n",
      "#### save 瑞泰科技股份有限公司 ####\n",
      "#### 256 start 泛海控股股份有限公司 #####\n",
      "#### save 泛海控股股份有限公司 ####\n",
      "#### 257 start 北京空港科技园区股份有限公司 #####\n",
      "#### save 北京空港科技园区股份有限公司 ####\n",
      "#### 258 start 舒泰神(北京)生物制药股份有限公司 #####\n",
      "#### save 舒泰神(北京)生物制药股份有限公司 ####\n",
      "#### 259 start 中国医药健康产业股份有限公司 #####\n",
      "#### save 中国医药健康产业股份有限公司 ####\n",
      "#### 260 start 东兴证券股份有限公司 #####\n",
      "#### save 东兴证券股份有限公司 ####\n",
      "#### 261 start 乐视网信息技术(北京)股份有限公司 #####\n",
      "#### save 乐视网信息技术(北京)股份有限公司 ####\n",
      "#### 262 start 北京京城机电股份有限公司 #####\n",
      "#### save 北京京城机电股份有限公司 ####\n",
      "#### 263 start 北京荣之联科技股份有限公司 #####\n",
      "#### save 北京荣之联科技股份有限公司 ####\n",
      "#### 264 start 中国电影股份有限公司 #####\n",
      "#### save 中国电影股份有限公司 ####\n",
      "#### 265 start 中国交通建设股份有限公司 #####\n",
      "#### save 中国交通建设股份有限公司 ####\n",
      "#### 266 start 中矿资源勘探股份有限公司 #####\n",
      "#### save 中矿资源勘探股份有限公司 ####\n",
      "#### 267 start 邦讯技术股份有限公司 #####\n",
      "#### save 邦讯技术股份有限公司 ####\n",
      "#### 268 start 北京金自天正智能控制股份有限公司 #####\n",
      "#### save 北京金自天正智能控制股份有限公司 ####\n",
      "#### 269 start 北京顺鑫农业股份有限公司 #####\n",
      "#### save 北京顺鑫农业股份有限公司 ####\n",
      "#### 270 start 中国石油天然气股份有限公司 #####\n",
      "#### save 中国石油天然气股份有限公司 ####\n",
      "#### 271 start 北京大豪科技股份有限公司 #####\n",
      "#### save 北京大豪科技股份有限公司 ####\n",
      "#### 272 start 中国核能电力股份有限公司 #####\n",
      "#### save 中国核能电力股份有限公司 ####\n",
      "#### 273 start 中水集团远洋股份有限公司 #####\n",
      "#### save 中水集团远洋股份有限公司 ####\n",
      "#### 274 start 北京东方通科技股份有限公司 #####\n",
      "#### save 北京东方通科技股份有限公司 ####\n",
      "#### 275 start 中科创达软件股份有限公司 #####\n",
      "#### save 中科创达软件股份有限公司 ####\n",
      "#### 276 start 飞天诚信科技股份有限公司 #####\n",
      "#### save 飞天诚信科技股份有限公司 ####\n",
      "#### 277 start 太空智造股份有限公司 #####\n",
      "#### save 太空智造股份有限公司 ####\n",
      "#### 278 start 汉王科技股份有限公司 #####\n",
      "#### save 汉王科技股份有限公司 ####\n",
      "#### 279 start 中国中期投资股份有限公司 #####\n",
      "#### save 中国中期投资股份有限公司 ####\n",
      "#### 280 start 北京百华悦邦科技股份有限公司 #####\n",
      "#### save 北京百华悦邦科技股份有限公司 ####\n",
      "#### 281 start 北京威卡威汽车零部件股份有限公司 #####\n",
      "#### save 北京威卡威汽车零部件股份有限公司 ####\n",
      "#### 282 start 中国国际航空股份有限公司 #####\n",
      "#### save 中国国际航空股份有限公司 ####\n",
      "#### 283 start 万达电影股份有限公司 #####\n",
      "#### save 万达电影股份有限公司 ####\n",
      "#### 284 start 盛达矿业股份有限公司 #####\n",
      "#### save 盛达矿业股份有限公司 ####\n",
      "#### 285 start 北京海量数据技术股份有限公司 #####\n",
      "#### save 北京海量数据技术股份有限公司 ####\n",
      "#### 286 start 北京首创股份有限公司 #####\n",
      "#### save 北京首创股份有限公司 ####\n",
      "#### 287 start 金融街控股股份有限公司 #####\n",
      "#### save 金融街控股股份有限公司 ####\n",
      "#### 288 start 北京元隆雅图文化传播股份有限公司 #####\n",
      "#### save 北京元隆雅图文化传播股份有限公司 ####\n",
      "#### 289 start 启明星辰信息技术集团股份有限公司 #####\n",
      "#### save 启明星辰信息技术集团股份有限公司 ####\n",
      "#### 290 start 北京万通地产股份有限公司 #####\n",
      "#### save 北京万通地产股份有限公司 ####\n",
      "#### 291 start 人民网股份有限公司 #####\n",
      "#### save 人民网股份有限公司 ####\n",
      "#### 292 start 引力传媒股份有限公司 #####\n",
      "#### save 引力传媒股份有限公司 ####\n",
      "#### 293 start 北京四维图新科技股份有限公司 #####\n",
      "#### save 北京四维图新科技股份有限公司 ####\n",
      "#### 294 start 二六三网络通信股份有限公司 #####\n",
      "#### save 二六三网络通信股份有限公司 ####\n",
      "#### 295 start 北京市大龙伟业房地产开发股份有限公司 #####\n",
      "#### save 北京市大龙伟业房地产开发股份有限公司 ####\n",
      "#### 296 start 北京久其软件股份有限公司 #####\n",
      "#### save 北京久其软件股份有限公司 ####\n",
      "#### 297 start 北京万邦达环保技术股份有限公司 #####\n",
      "#### save 北京万邦达环保技术股份有限公司 ####\n",
      "#### 298 start 北京掌趣科技股份有限公司 #####\n",
      "#### save 北京掌趣科技股份有限公司 ####\n",
      "#### 299 start 北京同仁堂股份有限公司 #####\n",
      "#### save 北京同仁堂股份有限公司 ####\n",
      "#### 300 start 大唐电信科技股份有限公司 #####\n",
      "#### save 大唐电信科技股份有限公司 ####\n",
      "#### 301 start 北京真视通科技股份有限公司 #####\n",
      "#### save 北京真视通科技股份有限公司 ####\n",
      "#### 302 start 森特士兴集团股份有限公司 #####\n",
      "#### save 森特士兴集团股份有限公司 ####\n",
      "#### 303 start 北京三聚环保新材料股份有限公司 #####\n",
      "#### save 北京三聚环保新材料股份有限公司 ####\n",
      "#### 304 start 北京北纬通信科技股份有限公司 #####\n",
      "#### save 北京北纬通信科技股份有限公司 ####\n",
      "#### 305 start 北京四方继保自动化股份有限公司 #####\n",
      "#### save 北京四方继保自动化股份有限公司 ####\n",
      "#### 306 start 北京辰安科技股份有限公司 #####\n",
      "#### save 北京辰安科技股份有限公司 ####\n",
      "#### 307 start 中国工商银行股份有限公司 #####\n",
      "#### save 中国工商银行股份有限公司 ####\n",
      "#### 308 start 华能国际电力股份有限公司 #####\n",
      "#### save 华能国际电力股份有限公司 ####\n",
      "#### 309 start 北京万集科技股份有限公司 #####\n",
      "#### save 北京万集科技股份有限公司 ####\n"
     ]
    }
   ],
   "source": [
    "for i in range(len(comp_name_list)):\n",
    "    print(\"#### %d start %s #####\" % (i, comp_name_list[i]))\n",
    "    get_competitors_from_api(comp_name_list[i])\n",
    "    print(\"#### save %s ####\" % comp_name_list[i])"
   ]
  },
  {
   "cell_type": "code",
   "execution_count": null,
   "metadata": {},
   "outputs": [],
   "source": []
  }
 ],
 "metadata": {
  "kernelspec": {
   "display_name": "Python 3",
   "language": "python",
   "name": "python3"
  },
  "language_info": {
   "codemirror_mode": {
    "name": "ipython",
    "version": 3
   },
   "file_extension": ".py",
   "mimetype": "text/x-python",
   "name": "python",
   "nbconvert_exporter": "python",
   "pygments_lexer": "ipython3",
   "version": "3.6.4"
  }
 },
 "nbformat": 4,
 "nbformat_minor": 2
}
